{
 "metadata": {
  "name": "",
  "signature": "sha256:0289bb5617101968d47a36ace9aeab9e1b2a74ff6dcdce2afe09f64a0120b302"
 },
 "nbformat": 3,
 "nbformat_minor": 0,
 "worksheets": [
  {
   "cells": [
    {
     "cell_type": "heading",
     "level": 1,
     "metadata": {},
     "source": [
      "Numpy array notes"
     ]
    },
    {
     "cell_type": "markdown",
     "metadata": {},
     "source": [
      " - [Creation](#Creation)\n",
      "   - [From tuple](#From-tuple)\n",
      "   - [From scalar](#From-scalar)\n",
      "   - [Using generating functions](#Using-generating-functions)\n",
      " - [Indexing](#Indexing)\n",
      "   - [Single and multi-dim indexing](#Single-and-multi-dim-indexing)\n",
      "   - [Slicing](#Slicing)\n",
      "   - [Fancy indexing](#Fancy-indexing)\n",
      "   - [Masking](#Masking)\n",
      "   - [Finding mask indices](#Finding-mask-indices)\n",
      "   - [Ellipsis](#Ellipsis)\n",
      " - [Reduction](#Reduction)"
     ]
    },
    {
     "cell_type": "code",
     "collapsed": false,
     "input": [
      "import numpy as np"
     ],
     "language": "python",
     "metadata": {},
     "outputs": [],
     "prompt_number": 1
    },
    {
     "cell_type": "code",
     "collapsed": false,
     "input": [
      "def printarray(a, name):\n",
      "    print('\\n%s\\n'%name, a, \n",
      "          '\\n%s.shape\\n'%name, a.shape, \n",
      "          '\\n%s.ndim\\n'%name, a.ndim, \n",
      "          '\\nlen(%s)\\n'%name, len(a), \n",
      "          '\\n%s.size\\n'%name, a.size,\n",
      "          '\\n%s.flags\\n'%name, a.flags, \n",
      "          '\\n')"
     ],
     "language": "python",
     "metadata": {},
     "outputs": [],
     "prompt_number": 2
    },
    {
     "cell_type": "heading",
     "level": 1,
     "metadata": {},
     "source": [
      "Creation"
     ]
    },
    {
     "cell_type": "heading",
     "level": 3,
     "metadata": {},
     "source": [
      "From tuple"
     ]
    },
    {
     "cell_type": "markdown",
     "metadata": {},
     "source": [
      "Everything works as expected except from len(b)=2 because len() considers the nparray as monodim. By default, 2+dim arrays are C-contiguous. 1dim array are both C and F contiguous."
     ]
    },
    {
     "cell_type": "code",
     "collapsed": false,
     "input": [
      "a = np.array([0, 1, 2, 3])\n",
      "printarray(a,'a')\n",
      "\n",
      "b = np.array([[0, 1, 2], [3, 4, 5]])\n",
      "printarray(b,'b')"
     ],
     "language": "python",
     "metadata": {},
     "outputs": [
      {
       "output_type": "stream",
       "stream": "stdout",
       "text": [
        "\n",
        "a\n",
        " [0 1 2 3] \n",
        "a.shape\n",
        " (4,) \n",
        "a.ndim\n",
        " 1 \n",
        "len(a)\n",
        " 4 \n",
        "a.size\n",
        " 4 \n",
        "a.flags\n",
        "   C_CONTIGUOUS : True\n",
        "  F_CONTIGUOUS : True\n",
        "  OWNDATA : True\n",
        "  WRITEABLE : True\n",
        "  ALIGNED : True\n",
        "  UPDATEIFCOPY : False \n",
        "\n",
        "\n",
        "b\n",
        " [[0 1 2]\n",
        " [3 4 5]] \n",
        "b.shape\n",
        " (2, 3) \n",
        "b.ndim\n",
        " 2 \n",
        "len(b)\n",
        " 2 \n",
        "b.size\n",
        " 6 \n",
        "b.flags\n",
        "   C_CONTIGUOUS : True\n",
        "  F_CONTIGUOUS : False\n",
        "  OWNDATA : True\n",
        "  WRITEABLE : True\n",
        "  ALIGNED : True\n",
        "  UPDATEIFCOPY : False \n",
        "\n"
       ]
      }
     ],
     "prompt_number": 3
    },
    {
     "cell_type": "heading",
     "level": 3,
     "metadata": {},
     "source": [
      "From scalar"
     ]
    },
    {
     "cell_type": "markdown",
     "metadata": {},
     "source": [
      "creating an array from scalar can be useful to write a function that should work with an array or a scalar"
     ]
    },
    {
     "cell_type": "code",
     "collapsed": false,
     "input": [
      "a = np.array(1)\n",
      "# cannot use len(a)\n",
      "# -> len() of unsized object\n",
      "print('\\na\\n', a, \n",
      "      '\\na.shape\\n', a.shape, \n",
      "      '\\na.ndim\\n', a.ndim,\n",
      "      '\\na.size\\n', a.size,\n",
      "      '\\na.flags\\n', a.flags, \n",
      "      '\\n')\n",
      "\n",
      "b = np.array([1])\n",
      "printarray(b,'b')"
     ],
     "language": "python",
     "metadata": {},
     "outputs": [
      {
       "output_type": "stream",
       "stream": "stdout",
       "text": [
        "\n",
        "a\n",
        " 1 \n",
        "a.shape\n",
        " () \n",
        "a.ndim\n",
        " 0 \n",
        "a.size\n",
        " 1 \n",
        "a.flags\n",
        "   C_CONTIGUOUS : True\n",
        "  F_CONTIGUOUS : True\n",
        "  OWNDATA : True\n",
        "  WRITEABLE : True\n",
        "  ALIGNED : True\n",
        "  UPDATEIFCOPY : False \n",
        "\n",
        "\n",
        "b\n",
        " [1] \n",
        "b.shape\n",
        " (1,) \n",
        "b.ndim\n",
        " 1 \n",
        "len(b)\n",
        " 1 \n",
        "b.size\n",
        " 1 \n",
        "b.flags\n",
        "   C_CONTIGUOUS : True\n",
        "  F_CONTIGUOUS : True\n",
        "  OWNDATA : True\n",
        "  WRITEABLE : True\n",
        "  ALIGNED : True\n",
        "  UPDATEIFCOPY : False \n",
        "\n"
       ]
      }
     ],
     "prompt_number": 4
    },
    {
     "cell_type": "markdown",
     "metadata": {},
     "source": [
      "The array <code>a = np.array(1)</code> has <code>a.ndim = 0<code> and <code>a.shape = ()<code>\n",
      "If I want to use it in the same way as an ndarray, I have to give it a dimension, using\n",
      "\n",
      "<code>a = np.array(a, ndmin=1)</code>\n",
      "\n",
      "NB: an array created in this way is not <code>OWNED</code>"
     ]
    },
    {
     "cell_type": "code",
     "collapsed": false,
     "input": [
      "a = 1\n",
      "a = np.array(a, ndmin=1)\n",
      "printarray(a,'a')"
     ],
     "language": "python",
     "metadata": {},
     "outputs": [
      {
       "output_type": "stream",
       "stream": "stdout",
       "text": [
        "\n",
        "a\n",
        " [1] \n",
        "a.shape\n",
        " (1,) \n",
        "a.ndim\n",
        " 1 \n",
        "len(a)\n",
        " 1 \n",
        "a.size\n",
        " 1 \n",
        "a.flags\n",
        "   C_CONTIGUOUS : True\n",
        "  F_CONTIGUOUS : True\n",
        "  OWNDATA : False\n",
        "  WRITEABLE : True\n",
        "  ALIGNED : True\n",
        "  UPDATEIFCOPY : False \n",
        "\n"
       ]
      }
     ],
     "prompt_number": 5
    },
    {
     "cell_type": "heading",
     "level": 3,
     "metadata": {},
     "source": [
      "Using generating functions"
     ]
    },
    {
     "cell_type": "code",
     "collapsed": false,
     "input": [
      "a = np.arange(1, 9, 2)\n",
      "printarray(a,'a')\n",
      "\n",
      "b = np.linspace(0, 1, 6)\n",
      "printarray(b,'b')\n",
      "\n",
      "# c = np.linspace(0, 1, 5, endpoint=False) -> [ 0.   0.2  0.4  0.6  0.8]"
     ],
     "language": "python",
     "metadata": {},
     "outputs": [
      {
       "output_type": "stream",
       "stream": "stdout",
       "text": [
        "\n",
        "a\n",
        " [1 3 5 7] \n",
        "a.shape\n",
        " (4,) \n",
        "a.ndim\n",
        " 1 \n",
        "len(a)\n",
        " 4 \n",
        "a.size\n",
        " 4 \n",
        "a.flags\n",
        "   C_CONTIGUOUS : True\n",
        "  F_CONTIGUOUS : True\n",
        "  OWNDATA : True\n",
        "  WRITEABLE : True\n",
        "  ALIGNED : True\n",
        "  UPDATEIFCOPY : False \n",
        "\n",
        "\n",
        "b\n",
        " [ 0.   0.2  0.4  0.6  0.8  1. ] \n",
        "b.shape\n",
        " (6,) \n",
        "b.ndim\n",
        " 1 \n",
        "len(b)\n",
        " 6 \n",
        "b.size\n",
        " 6 \n",
        "b.flags\n",
        "   C_CONTIGUOUS : True\n",
        "  F_CONTIGUOUS : True\n",
        "  OWNDATA : True\n",
        "  WRITEABLE : True\n",
        "  ALIGNED : True\n",
        "  UPDATEIFCOPY : False \n",
        "\n"
       ]
      }
     ],
     "prompt_number": 6
    },
    {
     "cell_type": "markdown",
     "metadata": {},
     "source": [
      "In the next example notice how the dimension (3) 1-dim is different from (3,1) 2-dim"
     ]
    },
    {
     "cell_type": "code",
     "collapsed": false,
     "input": [
      "a = np.ones((3))\n",
      "printarray(a, 'a')\n",
      "\n",
      "b = np.zeros((3,1))\n",
      "printarray(b, 'b')\n",
      "\n",
      "# other functions\n",
      "# np.eye, np.diag, np.random.rand, np.random.randn"
     ],
     "language": "python",
     "metadata": {},
     "outputs": [
      {
       "output_type": "stream",
       "stream": "stdout",
       "text": [
        "\n",
        "a\n",
        " [ 1.  1.  1.] \n",
        "a.shape\n",
        " (3,) \n",
        "a.ndim\n",
        " 1 \n",
        "len(a)\n",
        " 3 \n",
        "a.size\n",
        " 3 \n",
        "a.flags\n",
        "   C_CONTIGUOUS : True\n",
        "  F_CONTIGUOUS : True\n",
        "  OWNDATA : True\n",
        "  WRITEABLE : True\n",
        "  ALIGNED : True\n",
        "  UPDATEIFCOPY : False \n",
        "\n",
        "\n",
        "b\n",
        " [[ 0.]\n",
        " [ 0.]\n",
        " [ 0.]] \n",
        "b.shape\n",
        " (3, 1) \n",
        "b.ndim\n",
        " 2 \n",
        "len(b)\n",
        " 3 \n",
        "b.size\n",
        " 3 \n",
        "b.flags\n",
        "   C_CONTIGUOUS : True\n",
        "  F_CONTIGUOUS : False\n",
        "  OWNDATA : True\n",
        "  WRITEABLE : True\n",
        "  ALIGNED : True\n",
        "  UPDATEIFCOPY : False \n",
        "\n"
       ]
      }
     ],
     "prompt_number": 7
    },
    {
     "cell_type": "heading",
     "level": 1,
     "metadata": {},
     "source": [
      "Indexing"
     ]
    },
    {
     "cell_type": "heading",
     "level": 3,
     "metadata": {},
     "source": [
      "Single and multi-dim indexing"
     ]
    },
    {
     "cell_type": "markdown",
     "metadata": {},
     "source": [
      "if one indexes a multidimensional array with fewer indices than dimensions, one gets a subdimensional array\n",
      "\n",
      "note that <code>x[0,2] = x[0][2]</code> though the second case is more inefficient a new temporary array is created after the first index that is subsequently indexed by 2"
     ]
    },
    {
     "cell_type": "code",
     "collapsed": false,
     "input": [
      "a = np.arange(10)\n",
      "print(a[0], a[2], a[-1])\n",
      "\n",
      "b = np.diag(np.arange(4))\n",
      "print(b[0], b[2], b[-1], b[1,1], b[1][1])\n",
      "\n",
      "# use tuple of arrays as index returns elements\n",
      "print(b[1:3, 1:3])"
     ],
     "language": "python",
     "metadata": {},
     "outputs": [
      {
       "output_type": "stream",
       "stream": "stdout",
       "text": [
        "0 2 9\n",
        "[0 0 0 0] [0 0 2 0] [0 0 0 3] 1 1\n",
        "[[1 0]\n",
        " [0 2]]\n"
       ]
      }
     ],
     "prompt_number": 8
    },
    {
     "cell_type": "heading",
     "level": 3,
     "metadata": {},
     "source": [
      "Slicing"
     ]
    },
    {
     "cell_type": "markdown",
     "metadata": {},
     "source": [
      "We can omit any of the three parameters in <code>M[lower:upper:step]</code>.\n",
      "NB: as in range() upper is not comprised"
     ]
    },
    {
     "cell_type": "code",
     "collapsed": false,
     "input": [
      "a = np.arange(10)\n",
      "print(a[0:a.size:1]) #default\n",
      "print(a[::]) #default"
     ],
     "language": "python",
     "metadata": {},
     "outputs": [
      {
       "output_type": "stream",
       "stream": "stdout",
       "text": [
        "[0 1 2 3 4 5 6 7 8 9]\n",
        "[0 1 2 3 4 5 6 7 8 9]\n"
       ]
      }
     ],
     "prompt_number": 9
    },
    {
     "cell_type": "heading",
     "level": 3,
     "metadata": {},
     "source": [
      "Fancy indexing"
     ]
    },
    {
     "cell_type": "markdown",
     "metadata": {},
     "source": [
      "An array or list is used in-place of an index"
     ]
    },
    {
     "cell_type": "code",
     "collapsed": false,
     "input": [
      "A = np.array([[n+m*10 for n in range(5)] for m in range(5)])\n",
      "print(A)\n",
      "\n",
      "row_indices = [1, 2, 3]\n",
      "print('\\n', A[row_indices])\n",
      "\n",
      "col_indices = [1, 2, -1] # remember, index -1 means the last element\n",
      "print('\\n', A[row_indices, col_indices]) # the resultant array has the same shape as the index arrays\n",
      "\n",
      "# indexing with a tuple of arrays you get the same output\n",
      "print('\\n', A[(row_indices, col_indices)])\n",
      "\n",
      "# indexing with tuples you get the same output\n",
      "print('\\n', A[(1, 2, 3), (1, 2, -1)])"
     ],
     "language": "python",
     "metadata": {},
     "outputs": [
      {
       "output_type": "stream",
       "stream": "stdout",
       "text": [
        "[[ 0  1  2  3  4]\n",
        " [10 11 12 13 14]\n",
        " [20 21 22 23 24]\n",
        " [30 31 32 33 34]\n",
        " [40 41 42 43 44]]\n",
        "\n",
        " [[10 11 12 13 14]\n",
        " [20 21 22 23 24]\n",
        " [30 31 32 33 34]]\n",
        "\n",
        " [11 22 34]\n",
        "\n",
        " [11 22 34]\n",
        "\n",
        " [11 22 34]\n"
       ]
      }
     ],
     "prompt_number": 10
    },
    {
     "cell_type": "heading",
     "level": 3,
     "metadata": {},
     "source": [
      "Masking"
     ]
    },
    {
     "cell_type": "markdown",
     "metadata": {},
     "source": [
      "Boolean arrays must be of the same shape as the array being indexed, or broadcastable to the same shape"
     ]
    },
    {
     "cell_type": "code",
     "collapsed": false,
     "input": [
      "A = np.array([[n+m*10 for n in range(5)] for m in range(5)])\n",
      "print(A)\n",
      "\n",
      "mask = (A > 10) * (A < 20)\n",
      "printarray(mask, 'mask')\n",
      "\n",
      "printarray(A[mask], 'A[mask]')"
     ],
     "language": "python",
     "metadata": {},
     "outputs": [
      {
       "output_type": "stream",
       "stream": "stdout",
       "text": [
        "[[ 0  1  2  3  4]\n",
        " [10 11 12 13 14]\n",
        " [20 21 22 23 24]\n",
        " [30 31 32 33 34]\n",
        " [40 41 42 43 44]]\n",
        "\n",
        "mask\n",
        " [[False False False False False]\n",
        " [False  True  True  True  True]\n",
        " [False False False False False]\n",
        " [False False False False False]\n",
        " [False False False False False]] \n",
        "mask.shape\n",
        " (5, 5) \n",
        "mask.ndim\n",
        " 2 \n",
        "len(mask)\n",
        " 5 \n",
        "mask.size\n",
        " 25 \n",
        "mask.flags\n",
        "   C_CONTIGUOUS : True\n",
        "  F_CONTIGUOUS : False\n",
        "  OWNDATA : True\n",
        "  WRITEABLE : True\n",
        "  ALIGNED : True\n",
        "  UPDATEIFCOPY : False \n",
        "\n",
        "\n",
        "A[mask]\n",
        " [11 12 13 14] \n",
        "A[mask].shape\n",
        " (4,) \n",
        "A[mask].ndim\n",
        " 1 \n",
        "len(A[mask])\n",
        " 4 \n",
        "A[mask].size\n",
        " 4 \n",
        "A[mask].flags\n",
        "   C_CONTIGUOUS : True\n",
        "  F_CONTIGUOUS : True\n",
        "  OWNDATA : True\n",
        "  WRITEABLE : True\n",
        "  ALIGNED : True\n",
        "  UPDATEIFCOPY : False \n",
        "\n"
       ]
      }
     ],
     "prompt_number": 11
    },
    {
     "cell_type": "heading",
     "level": 3,
     "metadata": {},
     "source": [
      "Finding mask indices"
     ]
    },
    {
     "cell_type": "code",
     "collapsed": false,
     "input": [
      "A = np.array([[n+m*10 for n in range(5)] for m in range(5)])\n",
      "print(A)\n",
      "\n",
      "mask = (A > 10) * (A < 20)\n",
      "\n",
      "a = np.argwhere(mask) # 2-dim array. a[j, i] is the i-th coordinate of the j-th found element\n",
      "print('\\na\\n', a)\n",
      "print('\\nA[a]\\n',A[a]) # not suited to be used as index\n",
      "\n",
      "b = np.where(mask) # tuple with (mask.ndim) elements. The j-th array-element of the i-th tuple-element is the i-th coordinate of the j-th found element\n",
      "print('\\nb\\n', b)\n",
      "print('\\nA[b]\\n',A[b])\n",
      "\n",
      "c = np.nonzero(mask) # each element is a 1dim array of (mask.ndim) elements, representing coordinates of mask\n",
      "print('\\nc\\n', c)\n",
      "print('\\nA[c]\\n',A[c])"
     ],
     "language": "python",
     "metadata": {},
     "outputs": [
      {
       "output_type": "stream",
       "stream": "stdout",
       "text": [
        "[[ 0  1  2  3  4]\n",
        " [10 11 12 13 14]\n",
        " [20 21 22 23 24]\n",
        " [30 31 32 33 34]\n",
        " [40 41 42 43 44]]\n",
        "\n",
        "a\n",
        " [[1 1]\n",
        " [1 2]\n",
        " [1 3]\n",
        " [1 4]]\n",
        "\n",
        "A[a]\n",
        " [[[10 11 12 13 14]\n",
        "  [10 11 12 13 14]]\n",
        "\n",
        " [[10 11 12 13 14]\n",
        "  [20 21 22 23 24]]\n",
        "\n",
        " [[10 11 12 13 14]\n",
        "  [30 31 32 33 34]]\n",
        "\n",
        " [[10 11 12 13 14]\n",
        "  [40 41 42 43 44]]]\n",
        "\n",
        "b\n",
        " (array([1, 1, 1, 1]), array([1, 2, 3, 4]))\n",
        "\n",
        "A[b]\n",
        " [11 12 13 14]\n",
        "\n",
        "c\n",
        " (array([1, 1, 1, 1]), array([1, 2, 3, 4]))\n",
        "\n",
        "A[c]\n",
        " [11 12 13 14]\n"
       ]
      }
     ],
     "prompt_number": 12
    },
    {
     "cell_type": "heading",
     "level": 3,
     "metadata": {},
     "source": [
      "Ellipsis"
     ]
    },
    {
     "cell_type": "markdown",
     "metadata": {},
     "source": [
      "<code>A[...,3]</code> returns\n",
      "\n",
      "\n",
      "<code>[ A[0,0,3], A[0,1,3] ... A[0,N,3] ] \n",
      "\n",
      "[ A[1,0,3], A[1,1,3] ... A[1,N,3] ] \n",
      "\n",
      "... \n",
      "\n",
      "[ A[N,0,3], A[N,1,3] ... A[N,N,3] ]</code>"
     ]
    },
    {
     "cell_type": "code",
     "collapsed": false,
     "input": [
      "A = np.array([[[n+m*10+l*100 for n in range(5)] for m in range(5)] for l in range(5)])\n",
      "print(A)\n",
      "\n",
      "print('\\n', A[...,3])"
     ],
     "language": "python",
     "metadata": {},
     "outputs": [
      {
       "output_type": "stream",
       "stream": "stdout",
       "text": [
        "[[[  0   1   2   3   4]\n",
        "  [ 10  11  12  13  14]\n",
        "  [ 20  21  22  23  24]\n",
        "  [ 30  31  32  33  34]\n",
        "  [ 40  41  42  43  44]]\n",
        "\n",
        " [[100 101 102 103 104]\n",
        "  [110 111 112 113 114]\n",
        "  [120 121 122 123 124]\n",
        "  [130 131 132 133 134]\n",
        "  [140 141 142 143 144]]\n",
        "\n",
        " [[200 201 202 203 204]\n",
        "  [210 211 212 213 214]\n",
        "  [220 221 222 223 224]\n",
        "  [230 231 232 233 234]\n",
        "  [240 241 242 243 244]]\n",
        "\n",
        " [[300 301 302 303 304]\n",
        "  [310 311 312 313 314]\n",
        "  [320 321 322 323 324]\n",
        "  [330 331 332 333 334]\n",
        "  [340 341 342 343 344]]\n",
        "\n",
        " [[400 401 402 403 404]\n",
        "  [410 411 412 413 414]\n",
        "  [420 421 422 423 424]\n",
        "  [430 431 432 433 434]\n",
        "  [440 441 442 443 444]]]\n",
        "\n",
        " [[  3  13  23  33  43]\n",
        " [103 113 123 133 143]\n",
        " [203 213 223 233 243]\n",
        " [303 313 323 333 343]\n",
        " [403 413 423 433 443]]\n"
       ]
      }
     ],
     "prompt_number": 13
    },
    {
     "cell_type": "heading",
     "level": 1,
     "metadata": {},
     "source": [
      "Reduction"
     ]
    },
    {
     "cell_type": "code",
     "collapsed": false,
     "input": [
      "A = np.array([[n+m*10 for n in range(5)] for m in range(5)])\n",
      "print(A)\n",
      "\n",
      "print('\\n', A.mean(), A.std(), A.var(), A.sum(), A.prod(), A.min(), A.max())"
     ],
     "language": "python",
     "metadata": {},
     "outputs": [
      {
       "output_type": "stream",
       "stream": "stdout",
       "text": [
        "[[ 0  1  2  3  4]\n",
        " [10 11 12 13 14]\n",
        " [20 21 22 23 24]\n",
        " [30 31 32 33 34]\n",
        " [40 41 42 43 44]]\n",
        "\n",
        " 22.0 14.2126704036 202.0 550 0 0 44\n"
       ]
      }
     ],
     "prompt_number": 14
    }
   ],
   "metadata": {}
  }
 ]
}